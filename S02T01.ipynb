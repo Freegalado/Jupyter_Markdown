{
 "cells": [
  {
   "cell_type": "markdown",
   "metadata": {},
   "source": [
    "# __S02 T01: Jupyter Notebook i Markdown__"
   ]
  },
  {
   "cell_type": "markdown",
   "metadata": {},
   "source": [
    "<h2> Nivell 1 </h2>\n",
    "   <h3> Exercici 1: Instal·la el programa Anaconda amb Python 3, i Jupyter Notebook. **OK** </h3>\n",
    "   <h3> Exercici 2: Utilitzant Jupyter Notebook executa alguns càlculs senzills, a la vegada que et familiaritzes amb el llenguatge Markdown.</h3>"
   ]
  },
  {
   "cell_type": "markdown",
   "metadata": {},
   "source": [
    "```Python\n",
    "s = \"Syntax highlighting for Python\"\n",
    "print(x)\n",
    "```"
   ]
  },
  {
   "cell_type": "code",
   "execution_count": 2,
   "metadata": {},
   "outputs": [
    {
     "name": "stdout",
     "output_type": "stream",
     "text": [
      "Hello Jupyter!\n"
     ]
    }
   ],
   "source": [
    "print(\"Hello Jupyter!\")"
   ]
  },
  {
   "cell_type": "code",
   "execution_count": 9,
   "metadata": {},
   "outputs": [
    {
     "name": "stdout",
     "output_type": "stream",
     "text": [
      "12.0\n"
     ]
    }
   ],
   "source": [
    "x = (1+(2*3)+(4**2)+1)/2\n",
    "\n",
    "print(x)"
   ]
  },
  {
   "cell_type": "markdown",
   "metadata": {},
   "source": [
    "<h3> Exercici 3: Prova de crear títols, llistes, canviar l’estil de la lletra o afegir imatges dins del Notebook.</h3> "
   ]
  },
  {
   "cell_type": "markdown",
   "metadata": {},
   "source": [
    "<img src=\"Python_logo.png\" width=500 height=600>\n",
    "\n",
    "# BCN pide 125 millones de fondos europeos para sus planes de movilidad </h2> \n",
    " - El ayuntamiento opta a ayudas de la **UE** para la zona de bajas emisiones, las supermanzanas,\n",
    "    más carriles bici y la conexión del tranvía por la Diagonal, entre otros\n",
    "   \n",
    "# Abre en *Gavà* el rocódromo más grande de *España*\n",
    "* __Parece una metáfora de la vuelta al trabajo:__ aquí hay espacio suficiente para concentrar a todos los que ahora mismo se están subiendo por las paredes\n",
    "   * Nuevo hito que añadir al ‘boom’ de la escalada urbana: Sharma Climbing inaugura una montaña ‘indoor’ de 5.000 metros cuadrados\n",
    "   \n",
    "$\\sum$  (n+1)"
   ]
  },
  {
   "cell_type": "markdown",
   "metadata": {},
   "source": [
    "<h2> Nivell 2 </h2>\n",
    "- Exercici 1: Exporta el Notebook com a pdf i com a html. **OK**"
   ]
  },
  {
   "cell_type": "markdown",
   "metadata": {},
   "source": [
    "<h2> Nivell 3 </h2>\n",
    "- Exercici 1: Se instalo Nbextension utilizando la extensión Table of Contents (2), toc2,\n",
    "    para realizar tabla de contenido."
   ]
  },
  {
   "cell_type": "code",
   "execution_count": null,
   "metadata": {},
   "outputs": [],
   "source": []
  }
 ],
 "metadata": {
  "kernelspec": {
   "display_name": "Python 3",
   "language": "python",
   "name": "python3"
  },
  "language_info": {
   "codemirror_mode": {
    "name": "ipython",
    "version": 3
   },
   "file_extension": ".py",
   "mimetype": "text/x-python",
   "name": "python",
   "nbconvert_exporter": "python",
   "pygments_lexer": "ipython3",
   "version": "3.8.3"
  },
  "toc": {
   "base_numbering": 1,
   "nav_menu": {
    "height": "97px",
    "width": "507px"
   },
   "number_sections": true,
   "sideBar": true,
   "skip_h1_title": true,
   "title_cell": "Table of Contents",
   "title_sidebar": "Contents",
   "toc_cell": false,
   "toc_position": {
    "height": "calc(100% - 180px)",
    "left": "10px",
    "top": "150px",
    "width": "170.59375px"
   },
   "toc_section_display": true,
   "toc_window_display": true
  }
 },
 "nbformat": 4,
 "nbformat_minor": 5
}
